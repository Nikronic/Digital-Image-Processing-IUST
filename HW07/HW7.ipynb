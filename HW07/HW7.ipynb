{
 "cells": [
  {
   "cell_type": "markdown",
   "metadata": {},
   "source": [
    "# Digital Image Processing - HW7 - 98722278 - Mohammad Doosti Lakhani\n",
    "This notebook consists of:\n",
    "1. First section contains following tasks:\n",
    "    1. Study [AAM](https://www.cs.cmu.edu/~efros/courses/LBMV07/Papers/cootes-pami-01.pdf) paper and summarize it\n",
    "    2. Study [CLM](http://citeseerx.ist.psu.edu/viewdoc/download?doi=10.1.1.455.357&rep=rep1&type=pdf) paper and summarize it\n",
    "    3. Compare them with each other and also ASM (Active Shape Model)\n",
    "2. `dlib` is a powerful library in image processing. For detecting face landmarks there are built-in methods in `cv2` and `dlib`\n",
    "    1. Study the codes in linked here and write a program to calculate face landmarks via offline approach and demonstrates them ([link1](https://www.learnopencv.com/facemark-facial-landmark-detection-using-opencv/), [link2](https://towardsdatascience.com/facial-mapping-landmarks-with-dlib-python-160abcf7d672), [link3](https://www.pyimagesearch.com/2017/04/03/facial-landmarks-dlib-opencv-python/))\n",
    "        1. OpenCV\n",
    "        2. dlib\n",
    "    2. Compare them based on speed and accuracy (use subjective measurement for accuracy)"
   ]
  },
  {
   "cell_type": "markdown",
   "metadata": {},
   "source": [
    "## 1 First section contains following tasks:\n",
    "1. Study [AAM](https://www.cs.cmu.edu/~efros/courses/LBMV07/Papers/cootes-pami-01.pdf) paper and summarize it\n",
    "2. Study [CLM](http://citeseerx.ist.psu.edu/viewdoc/download?doi=10.1.1.455.357&rep=rep1&type=pdf) paper and summarize it\n",
    "3. Compare them with each other and also ASM (Active Shape Model)"
   ]
  },
  {
   "cell_type": "code",
   "execution_count": null,
   "metadata": {},
   "outputs": [],
   "source": []
  },
  {
   "cell_type": "markdown",
   "metadata": {},
   "source": [
    "## 2 `dlib` is a powerful library in image processing. For detecting face landmarks there are built-in methods in `cv2` and `dlib`\n",
    "1. Study the codes in linked here and write a program to calculate face landmarks via offline approach and demonstrates them ([link1](https://www.learnopencv.com/facemark-facial-landmark-detection-using-opencv/), [link2](https://towardsdatascience.com/facial-mapping-landmarks-with-dlib-python-160abcf7d672), [link3](https://www.pyimagesearch.com/2017/04/03/facial-landmarks-dlib-opencv-python/))\n",
    "    1. OpenCV\n",
    "    2. dlib\n",
    "2. Compare them based on speed and accuracy (use subjective measurement for accuracy)"
   ]
  },
  {
   "cell_type": "markdown",
   "metadata": {},
   "source": [
    "### 2.A Calculate Face Landmarks\n",
    "1. OpenCV\n",
    "2. dlib\n",
    "\n",
    "<font color='green'>Note: I had a few problems with installing `dlib` so this code has been copied from results I have achieved in Google Colab.</font>"
   ]
  },
  {
   "cell_type": "code",
   "execution_count": 3,
   "metadata": {},
   "outputs": [],
   "source": [
    "import numpy as np\n",
    "import cv2\n",
    "import dlib\n",
    "import imutils\n",
    "import matplotlib.pyplot as plt\n",
    "import time\n",
    "%matplotlib inline"
   ]
  },
  {
   "cell_type": "markdown",
   "metadata": {},
   "source": [
    "#### 2.A.a OpenCV"
   ]
  },
  {
   "cell_type": "code",
   "execution_count": null,
   "metadata": {},
   "outputs": [],
   "source": [
    "face_cascade = cv2.CascadeClassifier(cv2.data.haarcascades+'haarcascade_frontalface_alt.xml')\n",
    "image = cv2.imread('IMG.JPG', 0)\n",
    "image = cv2.equalizeHist(image)\n",
    "faces = face_cascade.detectMultiScale(image)\n",
    "for (x,y,w,h) in faces:\n",
    "        center = (x + w//2, y + h//2)\n",
    "        image = cv2.ellipse(image, center, (w//2, h//2), 0, 0, 360, (255, 0, 0), 4)\n",
    "plt.imshow(image, cmap='gray')"
   ]
  },
  {
   "cell_type": "markdown",
   "metadata": {},
   "source": [
    "![cv result](wiki/cv.png)"
   ]
  },
  {
   "cell_type": "markdown",
   "metadata": {},
   "source": [
    "#### 2.A.B dlib"
   ]
  },
  {
   "cell_type": "code",
   "execution_count": null,
   "metadata": {},
   "outputs": [],
   "source": [
    "# download data\n",
    "!wget http://dlib.net/files/shape_predictor_68_face_landmarks.dat.bz2\n",
    "!bzip2 -dk shape_predictor_68_face_landmarks.dat.bz2\n",
    "\n",
    "detector = dlib.get_frontal_face_detector()\n",
    "predictor = dlib.shape_predictor(\"shape_predictor_68_face_landmarks.dat\")\n",
    "image = cv2.imread('IMG.JPG', 0)\n",
    "faces = detector(image)\n",
    "for face in faces:\n",
    "    x1 = face.left()\n",
    "    y1 = face.top()\n",
    "    x2 = face.right()\n",
    "    y2 = face.bottom()\n",
    "    cv2.rectangle(image, (x1, y1), (x2, y2), (0, 255, 0), 3)\n",
    "\n",
    "    landmarks = predictor(image, face)\n",
    "\n",
    "    for n in range(0, 68):\n",
    "        x = landmarks.part(n).x\n",
    "        y = landmarks.part(n).y\n",
    "        cv2.circle(image, (x, y), 4, (255, 0, 0), 4)\n",
    "plt.imshow(image, cmap='gray')\n",
    "plt.show()"
   ]
  },
  {
   "cell_type": "markdown",
   "metadata": {},
   "source": [
    "![dlib result](wiki/dlib.png)"
   ]
  },
  {
   "cell_type": "markdown",
   "metadata": {},
   "source": [
    "#### 2.B Compare dlib and cv2"
   ]
  },
  {
   "cell_type": "markdown",
   "metadata": {},
   "source": [
    "Time:\n",
    "1. Considering loading model\n",
    "    1. dlib: 2.208890199661255\n",
    "    2. HaarCascade (cv2): 2.6401994228363037\n",
    "2. Without model load time\n",
    "    1. dlib: 0.7304553985595703\n",
    "    2. HaarCascade: 2.6089558601379395\n",
    "\n",
    "So based on the values we can say that dlib is pure success as only cv2 trained model could not find the face and just marked a small area beneath the ear.\n",
    "Acutally, `dlib` almost found perfect rectangle for face and landmarks are fiton eyes, nose, lip, etc which is enough reason to say that `dlib` is better.\n",
    "About time, even though the result of `dlib` is much better, it achieved it approximately 3.57X faster."
   ]
  }
 ],
 "metadata": {
  "kernelspec": {
   "display_name": "Python 3",
   "language": "python",
   "name": "python3"
  },
  "language_info": {
   "codemirror_mode": {
    "name": "ipython",
    "version": 3
   },
   "file_extension": ".py",
   "mimetype": "text/x-python",
   "name": "python",
   "nbconvert_exporter": "python",
   "pygments_lexer": "ipython3",
   "version": "3.6.6"
  }
 },
 "nbformat": 4,
 "nbformat_minor": 4
}
