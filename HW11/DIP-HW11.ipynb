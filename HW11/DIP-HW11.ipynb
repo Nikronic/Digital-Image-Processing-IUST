{
 "cells": [
  {
   "cell_type": "markdown",
   "metadata": {},
   "source": [
    "# Digital Image Processing - HW11 - 98722278 - Mohammad Doosti Lakhani\n",
    "In this notebook, I have solved the assignment's problems which are as follows:\n",
    "1. Define and compare Semantic Segmentation, Object Detection and Instance Segmentation\n",
    "    1. Semantic Segmentation\n",
    "    2. Object Detection\n",
    "    3. Instance Segmentation\n",
    "    4. Final Words\n",
    "2. Compare *RCNN*, *Fast RCNN* and *Faster RCNN*\n",
    "    1. RCNN\n",
    "    2. Fast RCNN\n",
    "    3. Faster RCNN\n",
    "3. Write a [Matching Template](https://docs.opencv.org/2.4/modules/imgproc/doc/object_detection.html?highlight=matchtemplate) algorithm to read car plate numbers"
   ]
  },
  {
   "cell_type": "markdown",
   "metadata": {},
   "source": [
    "## 1 Compare Semantic Segmentation, Object Detection and Instance Segmentation"
   ]
  },
  {
   "cell_type": "markdown",
   "metadata": {},
   "source": [
    "1. *Semantic Segmenation* simply is the pixel-wise image classification which means, in a given image, each pixel have to be labeled to its coressponding class. In semantic segmenation, model is not aware of objects.\n",
    "\n",
    "Here is image of the PSPNet, state of the art model of semantic segmentation:\n",
    "\n",
    "![pspnet](wiki/pspnet.png)\n",
    "\n",
    "2. *Object Detection* is similar to the semantic segmentation but the difference is that only indicating a bounding box around the detected object would be enough (not pixel wise), but still objects in a image need to be detected. Note that if there are multiple instance of same object, still the bounding boxes and their labels must be distinct. So in simple words, classification and localization is done by object detection.\n",
    "\n",
    "![object detection](wiki/objectdetection.png)\n",
    "\n",
    "3. *Instance Segmentation* is similar to semantic segmenatation in term of pixel-wise classification but the major difference is that in semantic segmenation model is not aware of object or multiple instance of a same class, but in instance segmenatation, similar to object detection, all instance of same object need to be classified BUT pixel-wise.\n",
    "\n",
    "![instance segmentation](wiki/instancesegmentation.png)"
   ]
  },
  {
   "cell_type": "markdown",
   "metadata": {},
   "source": [
    "## 2 Compare *RCNN*, *Fast RCNN* and *Faster RCNN*\n",
    "1. RCNN\n",
    "2. Fast RCNN\n",
    "3. Faster RCNN"
   ]
  },
  {
   "cell_type": "markdown",
   "metadata": {},
   "source": [
    "### 2.A RCNN\n",
    "RCNN consists of two major components, a CNN and a Region extractor.\n",
    "\n",
    "Firstly, it uses selective search to identify a rational number of bounding boxes as the regions of interests (RoI). Seconly, It uses these extracted regions as input to a pretrained CNN network for classification separately.\n",
    "\n",
    "![rcnn arch](wiki/rcnn1.png)\n",
    "\n",
    "Here are the main steps of RCNN:\n",
    "\n",
    "1. The CNN model must have been pretrained for a image classification tast such as VGG on ImageNet dataset\n",
    "2. It uses RoI that is hardcoded and do not need to be optimized.\n",
    "3. All extracted RoIs will be resized as the size of pretrained CNN\n",
    "4. Fine tune the CNN model w.r.t. classes. But a point need to be mentioned is that as most of the proposed RoIs are negative samples, we need to oversample positive RoIs while fine tuning CNN model\n",
    "5. Now we use CNN model to extract useful features from RoIs which in case of VGG it would be 4096 features\n",
    "6. A binary SVM classfier (each class a distinct binary SVM) uses extracted features from CNN to classify the image\n",
    "7. To find optimal localization, a regression model is used to to correct predicted boxes\n",
    "\n",
    "![rcnn top down](wiki/rcnn2.png)\n",
    "\n",
    "The approach which Bounding Box Regressor takes:\n",
    "The BBregressor uses predicted bounding box and ground truth to map in scale-variant manner. Also it updates the height and width by learning log-scale transformation. They used SSE loss plus L2 regularization to optimize this regressor.\n",
    "\n",
    "![rcnn bb regressor](wiki/rcnn3.png)\n",
    "\n",
    "One important indication of RCNN is that they used Non-max suppression to confluence overlapping bounding boxes into a single one which represents more score than the others.\n",
    "\n",
    "![nms](wiki/nms.png)\n",
    "\n",
    "But this model has a lot of problems:\n",
    "1. selective search has been used to obtain RoIs which means it is not learnable and slow\n",
    "2. For each extracted RoI, CNN need to be called which makes the algorithm super slow (about 47 sec per image)\n",
    "3. All model are separate, regressor, CNN and SVM!"
   ]
  },
  {
   "cell_type": "markdown",
   "metadata": {},
   "source": [
    "### 2.B Fast RCNN\n",
    "What was the main problem of RCNN? Speed!\n",
    "\n",
    "In fast RCNN, three distinct models joint each other to share results. This model instead of using CNN independently for each extracted region, it combines it with extraction part and only uses CNN once per image and RoI is based on the feature of CNN. In other words, first we take CNN, then RoI of feature vector generated from CNN and resize them to have same size for all and finally a stacked neural nets are the structure.\n",
    "\n",
    "![fast rcnn](wiki/fast1.png)\n",
    "\n",
    "This model to obtain the aforementioned approach, proposed a type of max pooling called *RoI Pooling*. This kind of pooling, decreases the size of a feature image with region of interest to a smaller feature image. It first make a grid with size of say hxw, then take max pooling in each grid.\n",
    "\n",
    "![roi pooling](wiki/fast2.png)\n",
    "\n",
    "Most of the steps are same with RCNN so here are the main ones:\n",
    "1. The last pooling layer of CNN has been changed from max pooling to RoI pooling. RoI pooling outputs fixed length feature vectors that can be used for prediction perposes.\n",
    "2. Last fully connected layer also needs to be changed to support non-interest regions (background- non of our classes)\n",
    "3. This model also outputs two factors, first, score of classifcation for each RoI, second, the bounding box value for regressor.\n",
    "4. Smooth L1 loss has been used for computing error of bounding boxes. The overall loss function is sum of Smooth L1 and softmax for classfication part.\n",
    "\n",
    "The model has got much more speed since computation of models have been shared and only once the CNN has been used instead of using it for each RoI in each image. (N image=N*2000 CNN calls reduced to 1 CNN call!)\n",
    "\n",
    "![time compare rcnn fast rcnn](wiki/fast3.png)\n",
    "\n",
    "A big bottleneck can be seen in above image is that when using selective search part to obtain RoIs, it almost take 2 seconds which is dominating all other part of the network in fast RCNN. So you can guess what is going to be in Faster RCNN!\n",
    "\n",
    "![fast rcnn arch top down](wiki/fast4.png)"
   ]
  },
  {
   "cell_type": "markdown",
   "metadata": {},
   "source": [
    "### 2.C Faster RCNN\n",
    "The last line in Fast RCNN section told us that almost all delay in our network is because of hardcoded part, the selective search for extracting RoIs. So in simple words, Faster RCNN removed that part and created a separate CNN model to extract RoIs from the given feature vector and that is why we have an end-to-end network which is enormously faster than hardcoded algorithms. \n",
    "\n",
    "![faster RCNN](wiki/faster1.png)\n",
    "\n",
    "How the model works:\n",
    "1. Like always we need a pretrained CNN model\n",
    "2. Fine tune Region Proposal Network (the true heir of selective search!) where has been initialized using the CNN pretrained model. RPN, slides over the feature image obtained from pretrained CNN model, at each step of sliding window of RPN, multiple region of various scale and ratios are predicted simultaneously and the anchor is combination of these predicted values. For instance, 3 scale, 3 ratios give us 9 anchor boxes.\n",
    "\n",
    "![RPN](wiki/faster4.png)\n",
    "\n",
    "3. Reshape extracted regions by RoI pooling layer\n",
    "3. Train FAST RCNN using currently proposed RoIs by RPN.\n",
    "4. Use FAST RCNN network which has been trained in previous step for initializing RPN, and only fine tune layers specifictly for RPN as RPN and predictor have common layers.\n",
    "5. Freeze RPN and fine tune layers uniquely of the Fast RCNN (exclude common layers).\n",
    "\n",
    "![faster RCNN top down arch](wiki/faster2.png)\n",
    "\n",
    "In this model aslo a value of score that current predicted anchor is indicating an object plus attribute of the bounding box is the inputs of loss function where loss function are same with Fast RCNN.\n",
    "\n",
    "This approach enabled model to skip the bottleneck of using selective search. Here is the time and performance imporovemenets:\n",
    "\n",
    "![faster RCNN time consumption](wiki/faster3.png)\n",
    "\n",
    "\n"
   ]
  },
  {
   "cell_type": "markdown",
   "metadata": {},
   "source": [
    "## 3 Car Plate Reader via Matching Template\n",
    "1. Libraries\n",
    "1. First Approach\n",
    "2. Second Approach (didn't finished!)"
   ]
  },
  {
   "cell_type": "markdown",
   "metadata": {},
   "source": [
    "### 3.A Libraries"
   ]
  },
  {
   "cell_type": "code",
   "execution_count": 172,
   "metadata": {},
   "outputs": [],
   "source": [
    "import cv2\n",
    "import matplotlib.pyplot as plt\n",
    "import numpy as np\n",
    "from skimage.feature import match_template\n",
    "from sklearn.cluster import DBSCAN\n",
    "\n",
    "%matplotlib inline"
   ]
  },
  {
   "cell_type": "markdown",
   "metadata": {},
   "source": [
    "### 3.B First Approach\n",
    "Reading each character using a threshold distinctly from other characters, then finding their locations using clustering techniques such as DBSCAN instead of non-max suppression using IoU.\n",
    "1. Setting Hyper parameters\n",
    "2. Preprocessing image\n",
    "3. Iterating over and preprocessing templates"
   ]
  },
  {
   "cell_type": "markdown",
   "metadata": {},
   "source": [
    "#### 3.B.a Setting hyper parameters"
   ]
  },
  {
   "cell_type": "code",
   "execution_count": null,
   "metadata": {},
   "outputs": [],
   "source": [
    "NUMBER_COUNTS = 9\n",
    "\n",
    "rotation_angles = [-20, -15, -10, -5, 0, 5, 10, 15, 20]\n",
    "scale_percents = [10, 20, 30, 40, 50, 70, 80, 90, 100, 110]\n",
    "threshold = 0.7"
   ]
  },
  {
   "cell_type": "markdown",
   "metadata": {},
   "source": [
    "#### 3.B.b Preprocessing Image"
   ]
  },
  {
   "cell_type": "code",
   "execution_count": null,
   "metadata": {},
   "outputs": [],
   "source": [
    "img = cv2.imread('plates/Plate5.jpg')\n",
    "img = cv2.cvtColor(img, cv2.COLOR_BGR2GRAY)\n",
    "(_, img) = cv2.threshold(img, 128, 255, cv2.THRESH_BINARY | cv2.THRESH_OTSU)"
   ]
  },
  {
   "cell_type": "markdown",
   "metadata": {},
   "source": [
    "#### 3.B.c Iterating over and preprocessing templates"
   ]
  },
  {
   "cell_type": "code",
   "execution_count": 292,
   "metadata": {},
   "outputs": [
    {
     "name": "stdout",
     "output_type": "stream",
     "text": [
      "[-1.  2.  5. -1.  2.  2.  6.  1. -1.]\n"
     ]
    },
    {
     "data": {
      "image/png": "[encoded data removed]",
      "text/plain": [
       "<Figure size 432x288 with 1 Axes>"
      ]
     },
     "metadata": {},
     "output_type": "display_data"
    }
   ],
   "source": [
    "num_pos = np.ones(NUMBER_COUNTS) * -1\n",
    "\n",
    "for template_number in range(10):\n",
    "    template = cv2.imread('Templates/'+str(template_number)+'.jpg')\n",
    "    template = cv2.cvtColor(template, cv2.COLOR_BGR2GRAY)\n",
    "    (_, template) = cv2.threshold(template, 128, 255, cv2.THRESH_BINARY | cv2.THRESH_OTSU)\n",
    "\n",
    "    for scale in scale_percents:\n",
    "        for angle in rotation_angles:\n",
    "            # resize\n",
    "            width = int(template.shape[1] * scale / 100)\n",
    "            height = int(template.shape[0] * scale / 100)\n",
    "            dim = (width, height)\n",
    "            temp = cv2.resize(template, dim, interpolation = cv2.INTER_AREA)\n",
    "            if temp.shape[0] > img.shape[0] or temp.shape[1] > img.shape[1]:\n",
    "                continue\n",
    "            # rotate\n",
    "            temp_center = tuple(np.array(temp.shape[1::-1]) / 2)\n",
    "            rot_mat = cv2.getRotationMatrix2D(temp_center, angle, 1.0)\n",
    "            result = cv2.warpAffine(temp, rot_mat, temp.shape[1::-1], flags=cv2.INTER_LINEAR, borderValue=(255,255,255))\n",
    "            w, h = temp.shape[::-1]\n",
    "            \n",
    "            # template matching\n",
    "            res = cv2.matchTemplate(img, temp, cv2.TM_CCOEFF_NORMED)\n",
    "            loc = np.where( res >= threshold)\n",
    "            if not loc[1].shape[0] == 0:\n",
    "                dbscan = DBSCAN(eps=3)\n",
    "                dbscan.fit(loc[1].reshape(-1, 1))\n",
    "                for cluster in range(dbscan.labels_.max()+1):\n",
    "                    idx = loc[1][(dbscan.labels_ == cluster).nonzero()[0]].mean() // (img.shape[1] / NUMBER_COUNTS)\n",
    "                    num_pos[int(idx)] = template_number\n",
    "                    # here use 'res' and 'idx' to get maximum probability then apply template number with max res value\n",
    "                for pt in zip(*loc[::-1]):\n",
    "                    cv2.rectangle(img, pt, (pt[0] + w, pt[1] + h), (0,0,255), 1)\n",
    "                cv2.imwrite('res.png', img)\n",
    "if num_pos[0] != -1:\n",
    "    num_pos[1] = num_pos[0]\n",
    "    num_pos[0] = -1\n",
    "plt.imshow(img, cmap='gray')\n",
    "print(num_pos)"
   ]
  },
  {
   "cell_type": "markdown",
   "metadata": {},
   "source": [
    "### 3.C Second Approach\n",
    "Gathering all scores of all preprocessed templates then taking max over them and their args. Using non-max suppression to localize maximums.\n",
    "1. Setting Hyper parameters\n",
    "2. Preprocess template\n",
    "2. Preprocessing image\n",
    "3. Iterating over templates\n",
    "4. NMS"
   ]
  },
  {
   "cell_type": "markdown",
   "metadata": {},
   "source": [
    "#### 3.C.a Setting hyper parameters"
   ]
  },
  {
   "cell_type": "code",
   "execution_count": 193,
   "metadata": {},
   "outputs": [],
   "source": [
    "NUMBER_COUNTS = 9\n",
    "TEMPLATE_COUNTS = 10\n",
    "\n",
    "rotation_angles = [-15, -10, -5, 0, 5, 10, 15]\n",
    "scale_percents = [10, 20, 30, 40, 50, 70, 80, 90, 100, 110]\n",
    "\n",
    "threshold = 0.7"
   ]
  },
  {
   "cell_type": "markdown",
   "metadata": {},
   "source": [
    "#### 3.C.b Preprocess templates"
   ]
  },
  {
   "cell_type": "code",
   "execution_count": 194,
   "metadata": {},
   "outputs": [
    {
     "data": {
      "text/plain": [
       "<matplotlib.image.AxesImage at 0x2288406bb38>"
      ]
     },
     "execution_count": 194,
     "metadata": {},
     "output_type": "execute_result"
    },
    {
     "data": {
      "image/png": "[encoded data removed]",
      "text/plain": [
       "<Figure size 432x288 with 1 Axes>"
      ]
     },
     "metadata": {},
     "output_type": "display_data"
    }
   ],
   "source": [
    "templates = []\n",
    "for template_number in range(10):\n",
    "    template = cv2.imread('Templates/'+str(template_number)+'.jpg')\n",
    "    template = cv2.cvtColor(template, cv2.COLOR_BGR2GRAY)\n",
    "    (_, template) = cv2.threshold(template, 128, 255, cv2.THRESH_BINARY | cv2.THRESH_OTSU)\n",
    "    templates.append(template)\n",
    "\n",
    "plt.imshow(templates[3], cmap='gray')"
   ]
  },
  {
   "cell_type": "markdown",
   "metadata": {},
   "source": [
    "#### 3.C.c Preprocess image"
   ]
  },
  {
   "cell_type": "code",
   "execution_count": 307,
   "metadata": {},
   "outputs": [],
   "source": [
    "img = cv2.imread('plates/Plate2.jpg')\n",
    "img = cv2.cvtColor(img, cv2.COLOR_BGR2GRAY)\n",
    "(_, img) = cv2.threshold(img, 128, 255, cv2.THRESH_BINARY | cv2.THRESH_OTSU)"
   ]
  },
  {
   "cell_type": "markdown",
   "metadata": {},
   "source": [
    "#### 3.C.d Iterating over templates"
   ]
  },
  {
   "cell_type": "code",
   "execution_count": 308,
   "metadata": {},
   "outputs": [],
   "source": [
    "probs = np.ones((img.shape[0], img.shape[1], TEMPLATE_COUNTS)) * -1\n",
    "for t_idx, template in enumerate(templates):\n",
    "    template_results = []\n",
    "    template_whc = []\n",
    "    for scale in scale_percents:\n",
    "        for angle in rotation_angles:\n",
    "            # resize\n",
    "            width = int(template.shape[1] * scale / 100)\n",
    "            height = int(template.shape[0] * scale / 100)\n",
    "            dim = (width, height)\n",
    "            temp = cv2.resize(template, dim, interpolation = cv2.INTER_AREA)\n",
    "            if temp.shape[0] > img.shape[0] or temp.shape[1] > img.shape[1]:\n",
    "                continue\n",
    "            # rotate\n",
    "            temp_center = tuple(np.array(temp.shape[1::-1]) / 2)\n",
    "            rot_mat = cv2.getRotationMatrix2D(temp_center, angle, 1.0)\n",
    "            temp = cv2.warpAffine(temp, rot_mat, temp.shape[1::-1], flags=cv2.INTER_LINEAR, borderValue=(0,0,0))\n",
    "            w, h = temp.shape[::-1]\n",
    "            \n",
    "            # template matching\n",
    "            res = match_template(img, temp, True)\n",
    "            template_results.append(res)\n",
    "            template_whc.append((w, h, temp_center[0], temp_center[1]))\n",
    "    \n",
    "    template_probs = np.ones((img.shape[0], img.shape[1], len(template_results))) *-1\n",
    "    template_whc_np = np.zeros((len(template_whc), 4))\n",
    "    for idx, r in enumerate(template_results):\n",
    "        template_probs[:,:,idx] = r\n",
    "        template_whc_np[idx,:] = template_whc[idx]\n",
    "    probs[:,:,t_idx] = np.max(template_probs, axis=2)\n",
    "    indices = np.argmax(template_probs, axis=2)\n",
    "    whc = template_whc_np[indices]"
   ]
  },
  {
   "cell_type": "markdown",
   "metadata": {},
   "source": [
    "#### 3.C.e NMS (I failed this step because of lack of time!)"
   ]
  },
  {
   "cell_type": "code",
   "execution_count": 280,
   "metadata": {},
   "outputs": [],
   "source": [
    "thresh = 0.5\n",
    "dets = whc.reshape(-1, 4)\n",
    "scores = np.max(probs, axis=2).reshape(-1, )\n",
    "w = dets[:, 0]\n",
    "h = dets[:, 1]\n",
    "cx = dets[:, 2]\n",
    "cy = dets[:, 3]\n",
    "x1 = cx-w//2\n",
    "y1 = cy-h//2\n",
    "x2 = cx+w//2\n",
    "y2 = cy+h//2\n",
    "\n",
    "areas = (x2 - x1 + 1) * (y2 - y1 + 1)\n",
    "order = scores.argsort()[::-1]\n",
    "\n",
    "keep = []\n",
    "while order.size > 0:\n",
    "    i = order[0]\n",
    "    keep.append(i)\n",
    "    xx1 = np.maximum(x1[i], x1[order[1:]])\n",
    "    yy1 = np.maximum(y1[i], y1[order[1:]])\n",
    "    xx2 = np.minimum(x2[i], x2[order[1:]])\n",
    "    yy2 = np.minimum(y2[i], y2[order[1:]])\n",
    "\n",
    "    w = np.maximum(0.0, xx2 - xx1 + 1)\n",
    "    h = np.maximum(0.0, yy2 - yy1 + 1)\n",
    "    inter = w * h\n",
    "    ovr = inter / (areas[i] + areas[order[1:]] - inter)\n",
    "\n",
    "    inds = np.where(ovr <= thresh)[0]\n",
    "    order = order[inds + 1]"
   ]
  },
  {
   "cell_type": "code",
   "execution_count": 309,
   "metadata": {},
   "outputs": [
    {
     "data": {
      "text/plain": [
       "<matplotlib.image.AxesImage at 0x22886de2cf8>"
      ]
     },
     "execution_count": 309,
     "metadata": {},
     "output_type": "execute_result"
    },
    {
     "data": {
      "image/png": "[encoded data removed]",
      "text/plain": [
       "<Figure size 432x288 with 1 Axes>"
      ]
     },
     "metadata": {},
     "output_type": "display_data"
    }
   ],
   "source": [
    "plt.imshow(img, cmap='gray')"
   ]
  },
  {
   "cell_type": "code",
   "execution_count": 315,
   "metadata": {},
   "outputs": [
    {
     "name": "stdout",
     "output_type": "stream",
     "text": [
      "location of max:  (array([39], dtype=int64), array([232], dtype=int64))\n"
     ]
    },
    {
     "data": {
      "image/png": "[encoded data removed]",
      "text/plain": [
       "<Figure size 432x288 with 1 Axes>"
      ]
     },
     "metadata": {},
     "output_type": "display_data"
    }
   ],
   "source": [
    "number = 8\n",
    "plt.imshow(probs[:,:,number], cmap='jet')\n",
    "print('location of max: ',np.where(probs[:,:,number] == np.max(probs[:,:,number])))"
   ]
  }
 ],
 "metadata": {
  "kernelspec": {
   "display_name": "Python 3",
   "language": "python",
   "name": "python3"
  },
  "language_info": {
   "codemirror_mode": {
    "name": "ipython",
    "version": 3
   },
   "file_extension": ".py",
   "mimetype": "text/x-python",
   "name": "python",
   "nbconvert_exporter": "python",
   "pygments_lexer": "ipython3",
   "version": "3.6.6"
  }
 },
 "nbformat": 4,
 "nbformat_minor": 4
}
