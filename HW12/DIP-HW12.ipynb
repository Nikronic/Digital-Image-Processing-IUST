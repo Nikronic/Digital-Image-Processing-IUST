{
 "cells": [
  {
   "cell_type": "markdown",
   "metadata": {},
   "source": [
    "# Digital Image Processing - HW12 - 98722278 - Mohammad Doosti Lakhani\n",
    "In this notebook, I have solved the assignment's problems which are as follows:\n",
    "\n",
    "1. Consider SSD300 and VGG16 models and answer following questions:\n",
    "    1. What is the number of parameters in SSD300, number of multiplication and addition operations\n",
    "    2. If we extract 2000 candidate regions from the input image and use VGG16 for classification, what is the number of Number of parameters in SSD300, number of multiplication and addition operations\n",
    "    3. Compare results\n",
    "2. `ground-truth.xlsx` and `detections.xlsx` files demonstrate ground truth and detected anchors respectively. Calculate `AP25` and `AP50`.\n",
    "3. Train a model similar to SSD300 for object detection. _[THIS PART HAS BEEN IMPLEMENTED IN SEPARATE NOTEBOOK]_"
   ]
  },
  {
   "cell_type": "markdown",
   "metadata": {},
   "source": [
    "## 1 Consider SSD300 and VGG16 models and answer following questions:\n",
    "1. What is the number of parameters in SSD300, number of multiplication and addition operations\n",
    "2. If we extract 2000 candidate regions from the input image and use VGG16 for classification, what is the number of Number of parameters in SSD300, number of multiplication and addition operations\n",
    "3. Compare results"
   ]
  },
  {
   "cell_type": "markdown",
   "metadata": {},
   "source": [
    "### 1.A Params and MAC in SSD300\n",
    "\n",
    "| Layer Name | # Params | MAC |\n",
    "| --- | --- | --- |\n",
    "| conv1_1 | 1792 | 155520000 |\n",
    "| conv1_2 | 36928 | 3317760000 |\n",
    "| conv2_1 | 73856 | 1658880000 |\n",
    "| conv2_2 | 147584 | 3317760000 |\n",
    "| conv3_1 | 295168 | 1658880000 |\n",
    "| conv3_2 | 590080 | 3317760000 |\n",
    "| conv3_3 | 590080 | 3317760000 |\n",
    "| conv4_1 | 1180160 | 1703411712 |\n",
    "| conv4_2 | 2359808 | 3406823424 |\n",
    "| conv4_3 | 2359808 | 3406823424 |\n",
    "| conv4_3_norm | 2 | 739328 |\n",
    "| conv4_3_norm_conf | 387156 | 558931968 |\n",
    "| conv4_3_norm_loc | 73744 | 106463232 |\n",
    "| conv5_1 | 2359808 | 851705856 |\n",
    "| conv5_2 | 2359808 | 851705856 |\n",
    "| conv5_3 | 2359808 | 851705856 |\n",
    "| fc6 | 4719616 | 1703411712 |\n",
    "| fc7 | 1049600 | 378535936 |\n",
    "| fc7_conf | 1161342 | 419198976 |\n",
    "| fc7_loc | 221208 | 79847424 |\n",
    "| conv6_1 | 262400 | 94633984 |\n",
    "| conv6_2 | 1180160 | 117964800 |\n",
    "| conv6_2_conf | 580734 | 58060800 |\n",
    "| conv6_2_loc | 110616 | 11059200 |\n",
    "| conv7_1 | 65664 | 6553600 |\n",
    "| conv7_2 | 295168 | 7372800 |\n",
    "| conv7_2_conf | 290430 | 7257600 |\n",
    "| conv7_2_loc | 55320 | 1382400 |\n",
    "| conv8_1 | 32896 | 819200 |\n",
    "| conv8_2 | 295168 | 2654208 |\n",
    "| conv8_2_conf | 193620 | 1741824 |\n",
    "| conv8_2_loc | 36880 | 331776 |\n",
    "| conv9_1 | 32896 | 294912 |\n",
    "| conv9_2 | 295168 | 294912 |\n",
    "| conv9_2_conf | 193620 | 193536 |\n",
    "| conv9_2_loc | 36880 | 36864 |\n",
    "\n",
    "\n",
    "`Total Params = 26284974`\n",
    "`Total MACs = 31374277120`\n",
    "\n",
    "Note: For naming convention, please see [official SSD300 Caffe implementation](https://github.com/weiliu89/caffe/tree/ssd) or mine as separate file `DIP-HW12-Task3`."
   ]
  },
  {
   "cell_type": "markdown",
   "metadata": {},
   "source": [
    "### 1.B Params and MAC in VGG16 for 2000 Candidates\n",
    "\n",
    "| Layer Name | # Params | MAC |\n",
    "| --- | --- | --- |\n",
    "| conv1_1 | 1792 | 86704128 |\n",
    "| conv1_2 | 36928 | 1849688064 |\n",
    "| conv2_1 | 73856 | 924844032 |\n",
    "| conv2_2 | 147584 | 1849688064 |\n",
    "| conv3_1 | 295168 | 924844032 |\n",
    "| conv3_2 | 590080 | 1849688064 |\n",
    "| conv3_3 | 590080 | 1849688064 |\n",
    "| conv4_1 | 1180160 | 924844032 |\n",
    "| conv4_2 | 2359808 | 1849688064 |\n",
    "| conv4_3 | 2359808 | 1849688064 |\n",
    "| conv5_1 | 2359808 | 462422016 |\n",
    "| conv5_2 | 2359808 | 462422016 |\n",
    "| conv5_3 | 2359808 | 462422016 |\n",
    "| fc6 | 102764544 | 102760448 |\n",
    "| fc7 | 16781312 | 16777216 |\n",
    "| fc8 | 4097000 | 4096000 |\n",
    "\n",
    "`Total Params for SINGLE VGG16 RUN = 138357544`\n",
    "`Total MACs for SINGLE VGG16 RUN = 15470264320`\n",
    "\n",
    "\n",
    "`Total Params for 2000 VGG16 RUN = 138357544`\n",
    "`Total MACs for 2000 VGG16 RUN = 30940528640000`"
   ]
  },
  {
   "cell_type": "markdown",
   "metadata": {},
   "source": [
    "### 1.C Compare Results\n",
    "\n",
    "| Model Name | # Params | MAC |\n",
    "| --- | --- | --- |\n",
    "| VGG16-2000 | 138357544 | 30940528640000 |\n",
    "| VGG16 | 138357544 | 15470264320 |\n",
    "| SSD300 | 26284974 | 31374277120 |\n",
    "\n",
    "As we can see, even though SSD has VGG in itself plus much more conv layers across the network, it has much less parameters because of omitting fully connected layers and replacing them with conv layers where the ratio is about `5.26`, so SSD300 is fifth of VGG16.\n",
    "\n",
    "About number of multiplications and additions for SINGLE run of VGG16, we need about `0.493` ratio of this amount in SSD300 so still even SSD300 is much bigger in term of number of layers, it reasonable number of m-a operations but this time number of operations cannot be reduced by using conv layers instead of fc layers as we can see the number of operations layer by layer in above sections.\n",
    "\n",
    "But as we want to run VGG16 for 2000 candidate regions, we need about `9.861` times more m-a operations in VGG16 w.r.t. SSD300 which has immeensly increased and this is the main reason that networks like RCNN are very slow and fail to operate in real time tasks."
   ]
  },
  {
   "cell_type": "markdown",
   "metadata": {},
   "source": [
    "## 2. `AP25` and `AP50` for `ground-truth.xlsx` and `detections.xlsx`"
   ]
  },
  {
   "cell_type": "code",
   "execution_count": 1,
   "metadata": {},
   "outputs": [],
   "source": [
    "import pandas as pd\n",
    "import numpy as np"
   ]
  },
  {
   "cell_type": "code",
   "execution_count": 86,
   "metadata": {},
   "outputs": [
    {
     "name": "stdout",
     "output_type": "stream",
     "text": [
      "     x    y   w   h  score\n",
      "3  114   31  14  21   0.96\n",
      "2   55   72  34  36   0.89\n",
      "0   11    5  19  26   0.84\n",
      "1   18   39  31  23   0.79\n",
      "6  124  136  29  35   0.74\n",
      "4   24   98  21  34   0.47\n",
      "5   36  150  41  26   0.39\n",
      "7   92  153  27  47   0.29\n"
     ]
    }
   ],
   "source": [
    "pred = pd.read_csv('pred.txt', sep='\\t').sort_values(by='score', ascending=False)\n",
    "print(pred)\n",
    "pred = pred.to_numpy()"
   ]
  },
  {
   "cell_type": "code",
   "execution_count": 87,
   "metadata": {},
   "outputs": [
    {
     "name": "stdout",
     "output_type": "stream",
     "text": [
      "     x    y   w   h\n",
      "0  153   21  20  25\n",
      "1  116   30  13  23\n",
      "2  125  135  30  35\n",
      "3   30  160  30  20\n",
      "4   10    5  20  25\n"
     ]
    }
   ],
   "source": [
    "gt = pd.read_csv('gt.txt', sep='\\t')\n",
    "print(gt)\n",
    "gt = gt.to_numpy()"
   ]
  },
  {
   "cell_type": "code",
   "execution_count": 94,
   "metadata": {},
   "outputs": [
    {
     "name": "stdout",
     "output_type": "stream",
     "text": [
      "AP is  0.409090909091\n",
      "mAP is  0.409090909091\n"
     ]
    }
   ],
   "source": [
    "threshold = 0.25\n",
    "ious = []\n",
    "for i in range(len(pred)):\n",
    "    for j in range(len(gt)):\n",
    "        xmin_max = max(gt[j, 0], pred[i, 0])\n",
    "        ymin_max = max(gt[j, 1], pred[i, 1])\n",
    "        xmax_min = min((gt[j, 0] + gt[j, 2]), (pred[i, 0] + pred[i, 2]))\n",
    "        ymax_min = min((gt[j, 1] + gt[j, 3]), (pred[i, 1] + pred[i, 3]))\n",
    "        intersection_area = max(0, xmax_min - xmin_max + 1) * max(0, ymax_min - ymin_max + 1)\n",
    "        gt_area = ((gt[j, 0] + gt[j, 2]) -gt[j, 0] + 1) * ((gt[j, 1] + gt[j, 3]) - gt[j, 1] + 1)\n",
    "        pred_area = ((pred[i, 0] + pred[i, 2]) - pred[i, 0] + 1) * ((pred[i, 1] + pred[i, 3]) - pred[i, 1]+ 1)\n",
    "        union_area = gt_area + pred_area - intersection_area\n",
    "        iou = intersection_area / union_area\n",
    "        ious.append(iou)\n",
    "ious = np.array(ious)\n",
    "tp = len((ious > threshold).nonzero()[0])\n",
    "fn = len(gt) - tp\n",
    "fp = len(pred) - tp\n",
    "precision = tp/(tp+fp)\n",
    "recall = tp/(tp+fn)\n",
    "\n",
    "pr = []\n",
    "\n",
    "for recall_level in np.linspace(0.0, 1.0, 11):\n",
    "    if recall >= recall_level:\n",
    "        pr.append(precision)\n",
    "    else:\n",
    "        pr.append(0)\n",
    "avg_pr = np.mean(pr)\n",
    "print('AP is ', avg_pr)\n",
    "print('mAP is ', avg_pr)\n",
    "\n",
    "# please read blow section"
   ]
  },
  {
   "cell_type": "markdown",
   "metadata": {},
   "source": [
    "1. `mAP50`:\n",
    "    1. `AP is  0.204545454545`\n",
    "    2. `mAP is  0.204545454545`\n",
    "2. `mAP25`:\n",
    "    1. `AP is  0.409090909091`\n",
    "    2. `mAP is  0.409090909091`"
   ]
  },
  {
   "cell_type": "markdown",
   "metadata": {},
   "source": [
    "In the given assignment for task 2:\n",
    "1. it has been said that these prediction and ground truth coordinates are for a SINGLE image. \n",
    "2. the type of objects in this single image has not been declared so I considered it SINGLE TYPE OBJECT multiple instance mode.\n",
    "\n",
    "Based on the reason 1, `mAP = mP` as there is only one image so average over all precision and recalls are the precision and recall of the single image.\n",
    "\n",
    "Based on the reason 2, `mAP = AP` as there is only one object so `m` which stands for multi class objects for averaging is still one single number as there is only 1 object but multiple instance of it."
   ]
  }
 ],
 "metadata": {
  "kernelspec": {
   "display_name": "Python 3",
   "language": "python",
   "name": "python3"
  },
  "language_info": {
   "codemirror_mode": {
    "name": "ipython",
    "version": 3
   },
   "file_extension": ".py",
   "mimetype": "text/x-python",
   "name": "python",
   "nbconvert_exporter": "python",
   "pygments_lexer": "ipython3",
   "version": "3.6.6"
  }
 },
 "nbformat": 4,
 "nbformat_minor": 4
}
