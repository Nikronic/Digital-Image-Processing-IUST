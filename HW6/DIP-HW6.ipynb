{
 "cells": [
  {
   "cell_type": "markdown",
   "metadata": {},
   "source": [
    "# Digital Image Processing - HW6 - 98722278 - Mohammad Doosti Lakhani\n",
    "In this notebook, I have solved the assignment's problems which are as follows:\n",
    "\n",
    "1. This step consists of following tasks:\n",
    "    1. Read [This paper](http://cseweb.ucsd.edu/~mdailey/Face-Coord/ellipse-specific-fitting.pdf) and summarize it\n",
    "    2. Convert MATLAB code in fig. 7 to python and extract ellipse parameters of `circle.bmp` and `ellipse.bmp` images.\n",
    "    3. Plot estimated ellipses using `cv2.ellipse()` method.\n",
    "2. We want to find the parameters of ellipse using RANSAC algorithm. If only %40 of edges in the image belong to ellipse's edges and we want to obtain the correct parameters with probability of 0.999, how many iterations are required?\n",
    "3. Do these steps in this task:\n",
    "    1. Estimates parameters of ellipse using code in task 1 on `ellipse_noise.bmp` image\n",
    "    2. As there are points that do not blong to ellipse, RANSAC is better solution here. Implement RANSAC\n",
    "    3. Draw the output on `ellipse_noise.bmp` image\n",
    "    4. Set the probability of achieving correct parameters of ellipse to 0.99 and run algorithm for 10000 times. In how many of iterations, the estimated parameters are correct?\n",
    "    5. Analyze your answer"
   ]
  },
  {
   "cell_type": "markdown",
   "metadata": {},
   "source": [
    "## 1 This step consists of following tasks:\n",
    "1. Read This paper and summarize it\n",
    "2. Convert MATLAB code in fig. 7 to python and extract ellipse parameters of circle.bmp and ellipse.bmp images.\n",
    "3. Plot estimated ellipses using cv2.ellipse() method."
   ]
  },
  {
   "cell_type": "markdown",
   "metadata": {},
   "source": [
    "### 1.A Paper Summarization\n",
    "\n",
    "The proposed method is ellipse specified which means no matter given data, a ellipse will be output. On top of that, it is computationally cheap and robust to noises.\n",
    "The major reason that this approach is robust and fast is that it uses least-square transformation.\n",
    "\n",
    "First of all, they use a distance matrix with respect to ellipse equation which is called *distance_matrix*:\n",
    "\n",
    "Ellipse Equation:\n",
    "![Ellipse equation](wiki/eq.jpg)\n",
    "\n",
    "Distance Matrix:\n",
    "![distance matrix](wiki/dm.jpg)\n",
    "\n",
    "Now, the parameter `a` is constrained using matrix called `C` which is 6x6 and all these constraints are linear or `C.dot(a) = 1`. But in this paper, constrained `a` is in the way that forces the fitted model to be ellipse. `4*a*c-b**2 = 1` is the equality constraint where `a.T.dot(C).dot(a) = 1`.\n",
    "\n",
    "So `C` is:\n",
    "\n",
    "![constraint matrix](wiki/c.jpg)\n",
    "\n",
    "Based on what they have covered so far, the solution of the quadratically constrained minimization will be:\n",
    "\n",
    "![constraint minimization](wiki/cm.jpg)\n",
    "\n",
    "\n",
    "Furthermore, this system can be written as below image where `lambda` is Lagrange multiplier and `S` is `D.T.dot(D)`:\n",
    "\n",
    "![simplified eigen system](wiki/ss.jpg)\n",
    "\n",
    "This system can be solved using generalized eigenvectors of `S.dot(a) = lambda*C.dot(a)`.\n",
    "In the end, if `(lambda, u)` solves `S.dot(a) = lambda*C.dot(a)`, we have:\n",
    "\n",
    "![mu](wiki/mu.jpg)\n",
    "\n",
    "Then `a` can be obtained by `a = mu*u`.\n"
   ]
  },
  {
   "cell_type": "markdown",
   "metadata": {},
   "source": [
    "### 1.B Direct Least Square of Fitting Ellipse Implementation and Ellipse of `circle.bmp` and `ellipse.bmp`"
   ]
  },
  {
   "cell_type": "code",
   "execution_count": 4,
   "metadata": {},
   "outputs": [],
   "source": [
    "import numpy as np\n",
    "import matplotlib.pyplot as plt\n",
    "import cv2\n",
    "%matplotlib inline"
   ]
  },
  {
   "cell_type": "code",
   "execution_count": 184,
   "metadata": {},
   "outputs": [],
   "source": [
    "def direct_least_square(x, y):\n",
    "    D = np.mat(np.vstack([x**2, x*y, y**2, x, y, np.ones(len(x))])).T\n",
    "    S = np.dot(D.T, D)\n",
    "    C = np.zeros((6, 6))\n",
    "    C[0, 2] = 2\n",
    "    C[1, 1] = -1\n",
    "    C[2, 0] = 2\n",
    "    Z = np.dot(np.linalg.inv(S), C)\n",
    "    eigen_value, eigen_vec = np.linalg.eig(Z)\n",
    "    eigen_value = eigen_value.reshape(1, -1)\n",
    "    pos_r, pos_c = np.where(eigen_value>0 & ~np.isinf(eigen_value))\n",
    "    a = eigen_vec[:, pos_c]\n",
    "    return a\n",
    "\n",
    "def ellipse_center(a):\n",
    "    a = a.reshape(-1, 1)\n",
    "    b,c,d,f,g,a = a[1]/2, a[2], a[3]/2, a[4]/2, a[5], a[0]\n",
    "    num = b*b-a*c\n",
    "    x0=(c*d-b*f)/num\n",
    "    y0=(a*f-b*d)/num\n",
    "    return (int(y0[0, 0])+1, int(x0[0, 0])+1)\n",
    "\n",
    "def ellipse_angle_of_rotation(a):\n",
    "    a = a.reshape(-1, 1)\n",
    "    b,c,d,f,g,a = a[1]/2, a[2], a[3]/2, a[4]/2, a[5], a[0]\n",
    "    return int(np.rad2deg(0.5*np.arctan(2*b/(a-c))[0, 0]))\n",
    "\n",
    "def ellipse_axis_length(a):\n",
    "    a = a.reshape(-1, 1)\n",
    "    b,c,d,f,g,a = a[1]/2, a[2], a[3]/2, a[4]/2, a[5], a[0]\n",
    "    up = 2*(a*f*f+c*d*d+g*b*b-2*b*d*f-a*c*g)\n",
    "    down1=(b*b-a*c)*( (c-a)*np.sqrt(1+4*b*b/((a-c)*(a-c)))-(c+a))\n",
    "    down2=(b*b-a*c)*( (a-c)*np.sqrt(1+4*b*b/((a-c)*(a-c)))-(c+a))\n",
    "    res1=np.sqrt(up/down1)\n",
    "    res2=np.sqrt(up/down2)\n",
    "    return (int(res1[0,0]), int(res2[0, 0]))"
   ]
  },
  {
   "cell_type": "code",
   "execution_count": 185,
   "metadata": {},
   "outputs": [],
   "source": [
    "# read images\n",
    "circle = cv2.imread('circle.bmp', 0)\n",
    "ellipse = cv2.imread('ellipse.bmp', 0)\n",
    "\n",
    "x_circle, y_circle = circle.nonzero()\n",
    "x_ellipse, y_ellipse = ellipse.nonzero()\n",
    "\n",
    "a_circle = direct_least_square(x_circle, y_circle)\n",
    "a_ellipse = direct_least_square(x_ellipse, y_ellipse)"
   ]
  },
  {
   "cell_type": "markdown",
   "metadata": {},
   "source": [
    "### 1.C Plot Estimates"
   ]
  },
  {
   "cell_type": "code",
   "execution_count": 186,
   "metadata": {},
   "outputs": [
    {
     "data": {
      "text/plain": [
       "<matplotlib.image.AxesImage at 0x1749279ac50>"
      ]
     },
     "execution_count": 186,
     "metadata": {},
     "output_type": "execute_result"
    },
    {
     "data": {
      "image/png": "[encoded data removed]",
      "text/plain": [
       "<Figure size 432x288 with 1 Axes>"
      ]
     },
     "metadata": {},
     "output_type": "display_data"
    }
   ],
   "source": [
    "center = ellipse_center(a_circle)\n",
    "axis = ellipse_axis_length(a_circle)\n",
    "angle = ellipse_angle_of_rotation(a_circle)\n",
    "start_angle = 0\n",
    "end_angle = 360\n",
    "color = 150\n",
    "thickness = 1\n",
    "plt.imshow(cv2.ellipse(circle, center, axis, angle, start_angle, end_angle, color, thickness))"
   ]
  },
  {
   "cell_type": "code",
   "execution_count": 187,
   "metadata": {},
   "outputs": [
    {
     "data": {
      "text/plain": [
       "<matplotlib.image.AxesImage at 0x174927ee4a8>"
      ]
     },
     "execution_count": 187,
     "metadata": {},
     "output_type": "execute_result"
    },
    {
     "data": {
      "image/png": "[encoded data removed]",
      "text/plain": [
       "<Figure size 432x288 with 1 Axes>"
      ]
     },
     "metadata": {},
     "output_type": "display_data"
    }
   ],
   "source": [
    "center = ellipse_center(a_ellipse)\n",
    "axis = ellipse_axis_length(a_ellipse)\n",
    "angle = ellipse_angle_of_rotation(a_ellipse)\n",
    "start_angle = 0\n",
    "end_angle = 360\n",
    "color = 150\n",
    "thickness = 1\n",
    "plt.imshow(cv2.ellipse(ellipse, center, axis, angle, start_angle, end_angle, color, thickness))"
   ]
  },
  {
   "cell_type": "markdown",
   "metadata": {},
   "source": [
    "## 2 How many Iterations for %40 Inlier Data With 0.999 Correct Estimation Probability?"
   ]
  },
  {
   "cell_type": "code",
   "execution_count": 192,
   "metadata": {},
   "outputs": [
    {
     "name": "stdout",
     "output_type": "stream",
     "text": [
      "Number of needed iterations: 1684\n"
     ]
    }
   ],
   "source": [
    "w = 0.4\n",
    "p = 0.999\n",
    "# we need at least 6 points to estimates 6 parameters of the ellipse\n",
    "\n",
    "k = np.log(1-p) / np.log(1-np.power(w, 6))\n",
    "print('Number of needed iterations: {}'.format(int(np.ceil(k))))"
   ]
  },
  {
   "cell_type": "markdown",
   "metadata": {},
   "source": [
    "## 3 Do these steps in this task:\n",
    "1. Estimates parameters of ellipse using code in task 1 on ellipse_noise.bmp image\n",
    "2. As there are points that do not blong to ellipse, RANSAC is better solution here. Implement RANSAC\n",
    "3. Draw the output on ellipse_noise.bmp image\n",
    "4. Set the probability of achieving correct parameters of ellipse to 0.99 and run algorithm for 10000 times. In how many of iterations, the estimated parameters are correct?\n",
    "5. Analyze your answer"
   ]
  },
  {
   "cell_type": "markdown",
   "metadata": {},
   "source": [
    "### 3.A Estimate Ellipse on `ellipse_noise.bmp` Via Step 1 Code"
   ]
  },
  {
   "cell_type": "code",
   "execution_count": 282,
   "metadata": {},
   "outputs": [],
   "source": [
    "# read images\n",
    "ellipse_noise = cv2.imread('ellipse_noise.bmp', 0)\n",
    "x_ellipse_noise, y_ellipse_noise = ellipse_noise.nonzero()\n",
    "a_ellipse_noise = direct_least_square(x_ellipse_noise, y_ellipse_noise)"
   ]
  },
  {
   "cell_type": "code",
   "execution_count": 196,
   "metadata": {},
   "outputs": [
    {
     "data": {
      "text/plain": [
       "<matplotlib.image.AxesImage at 0x17492cb6390>"
      ]
     },
     "execution_count": 196,
     "metadata": {},
     "output_type": "execute_result"
    },
    {
     "data": {
      "image/png": "[encoded data removed]",
      "text/plain": [
       "<Figure size 432x288 with 1 Axes>"
      ]
     },
     "metadata": {},
     "output_type": "display_data"
    }
   ],
   "source": [
    "center = ellipse_center(a_ellipse_noise)\n",
    "axis = ellipse_axis_length(a_ellipse_noise)\n",
    "angle = ellipse_angle_of_rotation(a_ellipse_noise)\n",
    "start_angle = 0\n",
    "end_angle = 360\n",
    "color = 150\n",
    "thickness = 1\n",
    "plt.imshow(cv2.ellipse(ellipse_noise, center, axis, angle, start_angle, end_angle, color, thickness))"
   ]
  },
  {
   "cell_type": "markdown",
   "metadata": {},
   "source": [
    "### 3.B Implement RANSAC for Ellipse"
   ]
  },
  {
   "cell_type": "code",
   "execution_count": 386,
   "metadata": {},
   "outputs": [],
   "source": [
    "import random\n",
    "\n",
    "def ransac(image, max_iter, threshold=5):\n",
    "    ellipse_noise = image\n",
    "    data = ellipse_noise\n",
    "    ics = []\n",
    "    best_ic = 0\n",
    "    best_model = None\n",
    "    xn, yn = data.nonzero()\n",
    "    nzero = [(x1,y1) for x1, y1 in zip(xn, yn)]\n",
    "    for epoch in range(max_iter):\n",
    "        ic = 0\n",
    "        sample = random.sample(nzero, 6)\n",
    "        a = direct_least_square(np.array([s[0] for s in sample]), np.array([s[1] for s in sample]))\n",
    "        for x, y in sample:\n",
    "            eq = np.mat(np.vstack([x**2, x*y, y**2, x, y, 1])).T\n",
    "            if np.abs(np.dot(eq, a.reshape(-1,1))) <= threshold:\n",
    "                ic += 1\n",
    "        ics.append(ic)\n",
    "        if ic > best_ic:\n",
    "            best_ic = ic\n",
    "            best_model = a\n",
    "    return a, ics\n",
    "\n",
    "ellipse_noise = cv2.imread('ellipse_noise.bmp', 0)\n",
    "a, _ = ransac(ellipse_noise, 500, 5)"
   ]
  },
  {
   "cell_type": "markdown",
   "metadata": {},
   "source": [
    "### 3.C Draw the Estimated Ellipse Via Ransac"
   ]
  },
  {
   "cell_type": "code",
   "execution_count": 387,
   "metadata": {},
   "outputs": [
    {
     "data": {
      "text/plain": [
       "<matplotlib.image.AxesImage at 0x1749492c2e8>"
      ]
     },
     "execution_count": 387,
     "metadata": {},
     "output_type": "execute_result"
    },
    {
     "data": {
      "image/png": "[encoded data removed]",
      "text/plain": [
       "<Figure size 432x288 with 1 Axes>"
      ]
     },
     "metadata": {},
     "output_type": "display_data"
    }
   ],
   "source": [
    "center = ellipse_center(a)\n",
    "axis = ellipse_axis_length(a)\n",
    "angle = ellipse_angle_of_rotation(a)\n",
    "start_angle = 0\n",
    "end_angle = 360\n",
    "color = 150\n",
    "thickness = 1\n",
    "plt.imshow(cv2.ellipse(ellipse_noise, center, axis, angle, start_angle, end_angle, color, thickness))"
   ]
  },
  {
   "cell_type": "markdown",
   "metadata": {},
   "source": [
    "### 3.D If P=0.99, With 10000 Iteration, How Many Correct Estimations?"
   ]
  },
  {
   "cell_type": "code",
   "execution_count": 402,
   "metadata": {},
   "outputs": [],
   "source": [
    "ellipse_noise = cv2.imread('ellipse_noise.bmp', 0)\n",
    "a, ics = ransac(ellipse_noise, 1000, 5)"
   ]
  },
  {
   "cell_type": "code",
   "execution_count": 403,
   "metadata": {},
   "outputs": [
    {
     "data": {
      "text/plain": [
       "<matplotlib.image.AxesImage at 0x17494a7e320>"
      ]
     },
     "execution_count": 403,
     "metadata": {},
     "output_type": "execute_result"
    },
    {
     "data": {
      "image/png": "[encoded data removed]",
      "text/plain": [
       "<Figure size 432x288 with 1 Axes>"
      ]
     },
     "metadata": {},
     "output_type": "display_data"
    }
   ],
   "source": [
    "center = ellipse_center(a)\n",
    "axis = ellipse_axis_length(a)\n",
    "angle = ellipse_angle_of_rotation(a)\n",
    "start_angle = 0\n",
    "end_angle = 360\n",
    "color = 150\n",
    "thickness = 1\n",
    "plt.imshow(cv2.ellipse(ellipse_noise, center, axis, angle, start_angle, end_angle, color, thickness))"
   ]
  },
  {
   "cell_type": "markdown",
   "metadata": {},
   "source": [
    "I do not know why sometimes my `direct_least_square` function, generates `0` parameters and sometimes `12`, so the could is unstable for high number of loops. So failed this part of training because of lack of time.\n",
    "Thank you ;-)"
   ]
  }
 ],
 "metadata": {
  "kernelspec": {
   "display_name": "Python 3",
   "language": "python",
   "name": "python3"
  },
  "language_info": {
   "codemirror_mode": {
    "name": "ipython",
    "version": 3
   },
   "file_extension": ".py",
   "mimetype": "text/x-python",
   "name": "python",
   "nbconvert_exporter": "python",
   "pygments_lexer": "ipython3",
   "version": "3.6.6"
  }
 },
 "nbformat": 4,
 "nbformat_minor": 4
}
